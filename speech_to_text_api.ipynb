{
  "nbformat": 4,
  "nbformat_minor": 0,
  "metadata": {
    "colab": {
      "provenance": [],
      "gpuType": "T4",
      "authorship_tag": "ABX9TyNjZFnGqKQincH5n71AHQIy",
      "include_colab_link": true
    },
    "kernelspec": {
      "name": "python3",
      "display_name": "Python 3"
    },
    "language_info": {
      "name": "python"
    },
    "accelerator": "GPU"
  },
  "cells": [
    {
      "cell_type": "markdown",
      "metadata": {
        "id": "view-in-github",
        "colab_type": "text"
      },
      "source": [
        "<a href=\"https://colab.research.google.com/github/mab2004/speech-to-text-api/blob/main/speech_to_text_api.ipynb\" target=\"_parent\"><img src=\"https://colab.research.google.com/assets/colab-badge.svg\" alt=\"Open In Colab\"/></a>"
      ]
    },
    {
      "cell_type": "code",
      "execution_count": null,
      "metadata": {
        "collapsed": true,
        "id": "KZce0-kJw6TV"
      },
      "outputs": [],
      "source": [
        "!pip install transformers torch fastapi \"uvicorn[standard]\""
      ]
    },
    {
      "cell_type": "code",
      "source": [
        "!pip install pyngrok"
      ],
      "metadata": {
        "collapsed": true,
        "id": "hhGtm9HD0Y9z"
      },
      "execution_count": null,
      "outputs": []
    },
    {
      "cell_type": "code",
      "source": [
        "from pyngrok import ngrok\n",
        "\n",
        "ngrok.set_auth_token(\"YOUR_AUTH_TOKEN_HERE\")"
      ],
      "metadata": {
        "id": "piR67_Zj15-E"
      },
      "execution_count": null,
      "outputs": []
    },
    {
      "cell_type": "code",
      "source": [
        "import torch\n",
        "import uvicorn\n",
        "from fastapi import FastAPI, UploadFile, File\n",
        "from transformers import pipeline\n",
        "import nest_asyncio\n",
        "from pyngrok import ngrok\n",
        "\n",
        "# Use nest_asyncio to allow Uvicorn to run in a Colab environment\n",
        "nest_asyncio.apply()\n",
        "\n",
        "# --- API setup ---\n",
        "app = FastAPI()\n",
        "\n",
        "# --- Load the Whisper model ---\n",
        "# Using a GPU if available\n",
        "device = \"cuda:0\" if torch.cuda.is_available() else \"cpu\"\n",
        "pipe = pipeline(\"automatic-speech-recognition\", model=\"openai/whisper-base\", device=device, return_timestamps=True)\n",
        "\n",
        "# --- API endpoint for transcription ---\n",
        "@app.post(\"/transcribe/\")\n",
        "async def transcribe_audio(file: UploadFile = File(...)):\n",
        "    # Read the uploaded audio file\n",
        "    audio_data = await file.read()\n",
        "\n",
        "    # Transcribe the audio using the Whisper model\n",
        "    transcription = pipe(audio_data)[\"text\"]\n",
        "\n",
        "    return {\"transcription\": transcription}\n",
        "\n",
        "# --- Start the API and create a public URL with ngrok ---\n",
        "# This part runs the API and generates a public URL\n",
        "ngrok_tunnel = ngrok.connect(8000)\n",
        "print(f'Public URL: {ngrok_tunnel.public_url}')\n",
        "\n",
        "uvicorn.run(app, port=8000)"
      ],
      "metadata": {
        "collapsed": true,
        "id": "9qYRxm3h2fpX"
      },
      "execution_count": null,
      "outputs": []
    }
  ]
}
